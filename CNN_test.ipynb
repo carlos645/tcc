{
  "nbformat": 4,
  "nbformat_minor": 0,
  "metadata": {
    "colab": {
      "name": "CNN_test.ipynb",
      "provenance": [],
      "collapsed_sections": []
    },
    "kernelspec": {
      "name": "python3",
      "display_name": "Python 3"
    }
  },
  "cells": [
    {
      "cell_type": "markdown",
      "metadata": {
        "id": "LSGjkVgYoPEi"
      },
      "source": [
        ""
      ]
    },
    {
      "cell_type": "code",
      "metadata": {
        "id": "QYBCVefE8ir9",
        "outputId": "e0429c98-3278-4673-e6d1-f7fec559edcf",
        "colab": {
          "base_uri": "https://localhost:8080/"
        }
      },
      "source": [
        "\n",
        "from google.colab import drive\n",
        "drive.mount('/content/gdrive')"
      ],
      "execution_count": null,
      "outputs": [
        {
          "output_type": "stream",
          "text": [
            "Drive already mounted at /content/gdrive; to attempt to forcibly remount, call drive.mount(\"/content/gdrive\", force_remount=True).\n"
          ],
          "name": "stdout"
        }
      ]
    },
    {
      "cell_type": "code",
      "metadata": {
        "id": "r9UNrsI9nPZz",
        "outputId": "ea863337-322b-4e4c-f4d6-bf594d512a84",
        "colab": {
          "base_uri": "https://localhost:8080/"
        }
      },
      "source": [
        "from google.colab import drive\n",
        "drive.mount('/content/drive')"
      ],
      "execution_count": null,
      "outputs": [
        {
          "output_type": "stream",
          "text": [
            "Mounted at /content/drive\n"
          ],
          "name": "stdout"
        }
      ]
    },
    {
      "cell_type": "code",
      "metadata": {
        "id": "4hlXqqFZgEqA"
      },
      "source": [
        "import os\n",
        "path ='/content/gdrive/My Drive/Work Carlos '\n",
        "os.chdir(path)"
      ],
      "execution_count": null,
      "outputs": []
    },
    {
      "cell_type": "code",
      "metadata": {
        "id": "bc2EfjYuhEBI"
      },
      "source": [
        "from keras.models import Sequential\n",
        "from keras.layers import Conv2D\n",
        "from keras.layers import MaxPooling2D\n",
        "from keras.layers import Flatten\n",
        "from keras.layers import Dense\n",
        "from keras.callbacks import ModelCheckpoint\n",
        "from keras.preprocessing.image import ImageDataGenerator\n",
        "import numpy as np\n",
        "from keras.preprocessing import image"
      ],
      "execution_count": null,
      "outputs": []
    },
    {
      "cell_type": "code",
      "metadata": {
        "id": "--17iPZvkmFR"
      },
      "source": [
        "classifier = Sequential()\n",
        "\n",
        "classifier.add(Conv2D(32, (3, 3), input_shape = (200, 200, 3), activation = 'relu'))\n",
        "\n",
        "classifier.add(MaxPooling2D(pool_size = (2, 2)))\n",
        "\n",
        "classifier.add(Flatten())\n",
        "\n",
        "classifier.add(Dense(units = 128, activation = 'relu'))\n",
        "classifier.add(Dense(units = 3, activation = 'softmax'))"
      ],
      "execution_count": null,
      "outputs": []
    },
    {
      "cell_type": "code",
      "metadata": {
        "id": "DYMr6iGpk1oD"
      },
      "source": [
        "classifier.compile(optimizer = 'adam', loss = \"categorical_crossentropy\", metrics = ['accuracy'])"
      ],
      "execution_count": null,
      "outputs": []
    },
    {
      "cell_type": "code",
      "metadata": {
        "id": "HrWyVvQxk8N4",
        "outputId": "fd01b3ba-c53f-457c-c370-302dfed3faa3",
        "colab": {
          "base_uri": "https://localhost:8080/"
        }
      },
      "source": [
        "train_datagen = ImageDataGenerator(rescale = 1./255,\n",
        "                                   shear_range = 0.2,\n",
        "                                   zoom_range = 0.2,\n",
        "                                   horizontal_flip = True)\n",
        "\n",
        "test_datagen = ImageDataGenerator(rescale = 1./255)\n",
        "\n",
        "training_set = train_datagen.flow_from_directory('image_folders/train',\n",
        "                                                 target_size = (200, 200),\n",
        "                                                 batch_size = 32)\n",
        "\n",
        "\n",
        "test_set = test_datagen.flow_from_directory('image_folders/test',\n",
        "                                            target_size = (200, 200),\n",
        "                                            batch_size = 32 )\n",
        "\n",
        "\n",
        "checkpoint = ModelCheckpoint('models/model-{epoch:03d}-{val_accuracy:03f}.h5', verbose=1, monitor='val_accuracy',save_best_only=True, mode='auto')  \n",
        "classifier.fit_generator(training_set,\n",
        "                         steps_per_epoch = (160/32),\n",
        "                         epochs = 25,\n",
        "                         validation_data = test_set,\n",
        "                         validation_steps = (40/32),  callbacks=[checkpoint])"
      ],
      "execution_count": null,
      "outputs": [
        {
          "output_type": "stream",
          "text": [
            "Found 160 images belonging to 3 classes.\n",
            "Found 40 images belonging to 3 classes.\n",
            "WARNING:tensorflow:From <ipython-input-14-b32ec64d9477>:23: Model.fit_generator (from tensorflow.python.keras.engine.training) is deprecated and will be removed in a future version.\n",
            "Instructions for updating:\n",
            "Please use Model.fit, which supports generators.\n",
            "Epoch 1/25\n",
            "5/5 [==============================] - ETA: 0s - loss: 38.6951 - accuracy: 0.4250\n",
            "Epoch 00001: val_accuracy improved from -inf to 0.40000, saving model to models/model-001-0.400000.h5\n",
            "5/5 [==============================] - 49s 10s/step - loss: 38.6951 - accuracy: 0.4250 - val_loss: 21.8419 - val_accuracy: 0.4000\n",
            "Epoch 2/25\n",
            "5/5 [==============================] - ETA: 0s - loss: 21.3781 - accuracy: 0.2937\n",
            "Epoch 00002: val_accuracy did not improve from 0.40000\n",
            "5/5 [==============================] - 5s 1s/step - loss: 21.3781 - accuracy: 0.2937 - val_loss: 10.8984 - val_accuracy: 0.4000\n",
            "Epoch 3/25\n",
            "5/5 [==============================] - ETA: 0s - loss: 7.1426 - accuracy: 0.4062\n",
            "Epoch 00003: val_accuracy did not improve from 0.40000\n",
            "5/5 [==============================] - 6s 1s/step - loss: 7.1426 - accuracy: 0.4062 - val_loss: 7.0388 - val_accuracy: 0.4000\n",
            "Epoch 4/25\n",
            "5/5 [==============================] - ETA: 0s - loss: 3.7411 - accuracy: 0.4187\n",
            "Epoch 00004: val_accuracy did not improve from 0.40000\n",
            "5/5 [==============================] - 5s 1s/step - loss: 3.7411 - accuracy: 0.4187 - val_loss: 3.6361 - val_accuracy: 0.4000\n",
            "Epoch 5/25\n",
            "5/5 [==============================] - ETA: 0s - loss: 2.5340 - accuracy: 0.2750\n",
            "Epoch 00005: val_accuracy improved from 0.40000 to 0.42500, saving model to models/model-005-0.425000.h5\n",
            "5/5 [==============================] - 7s 1s/step - loss: 2.5340 - accuracy: 0.2750 - val_loss: 1.3483 - val_accuracy: 0.4250\n",
            "Epoch 6/25\n",
            "5/5 [==============================] - ETA: 0s - loss: 1.3576 - accuracy: 0.4437\n",
            "Epoch 00006: val_accuracy improved from 0.42500 to 0.50000, saving model to models/model-006-0.500000.h5\n",
            "5/5 [==============================] - 13s 3s/step - loss: 1.3576 - accuracy: 0.4437 - val_loss: 1.4131 - val_accuracy: 0.5000\n",
            "Epoch 7/25\n",
            "5/5 [==============================] - ETA: 0s - loss: 1.2776 - accuracy: 0.5125\n",
            "Epoch 00007: val_accuracy did not improve from 0.50000\n",
            "5/5 [==============================] - 5s 1s/step - loss: 1.2776 - accuracy: 0.5125 - val_loss: 1.1642 - val_accuracy: 0.4500\n",
            "Epoch 8/25\n",
            "5/5 [==============================] - ETA: 0s - loss: 1.0222 - accuracy: 0.4938\n",
            "Epoch 00008: val_accuracy did not improve from 0.50000\n",
            "5/5 [==============================] - 6s 1s/step - loss: 1.0222 - accuracy: 0.4938 - val_loss: 1.0222 - val_accuracy: 0.4250\n",
            "Epoch 9/25\n",
            "5/5 [==============================] - ETA: 0s - loss: 0.9150 - accuracy: 0.5500\n",
            "Epoch 00009: val_accuracy improved from 0.50000 to 0.52500, saving model to models/model-009-0.525000.h5\n",
            "5/5 [==============================] - 7s 1s/step - loss: 0.9150 - accuracy: 0.5500 - val_loss: 0.9539 - val_accuracy: 0.5250\n",
            "Epoch 10/25\n",
            "5/5 [==============================] - ETA: 0s - loss: 0.9110 - accuracy: 0.4938\n",
            "Epoch 00010: val_accuracy did not improve from 0.52500\n",
            "5/5 [==============================] - 5s 1s/step - loss: 0.9110 - accuracy: 0.4938 - val_loss: 1.0697 - val_accuracy: 0.3500\n",
            "Epoch 11/25\n",
            "5/5 [==============================] - ETA: 0s - loss: 0.9466 - accuracy: 0.4625\n",
            "Epoch 00011: val_accuracy did not improve from 0.52500\n",
            "5/5 [==============================] - 6s 1s/step - loss: 0.9466 - accuracy: 0.4625 - val_loss: 0.9981 - val_accuracy: 0.5000\n",
            "Epoch 12/25\n",
            "5/5 [==============================] - ETA: 0s - loss: 0.9126 - accuracy: 0.5500\n",
            "Epoch 00012: val_accuracy improved from 0.52500 to 0.55000, saving model to models/model-012-0.550000.h5\n",
            "5/5 [==============================] - 9s 2s/step - loss: 0.9126 - accuracy: 0.5500 - val_loss: 0.9513 - val_accuracy: 0.5500\n",
            "Epoch 13/25\n",
            "5/5 [==============================] - ETA: 0s - loss: 0.8745 - accuracy: 0.5562\n",
            "Epoch 00013: val_accuracy improved from 0.55000 to 0.65000, saving model to models/model-013-0.650000.h5\n",
            "5/5 [==============================] - 11s 2s/step - loss: 0.8745 - accuracy: 0.5562 - val_loss: 0.9634 - val_accuracy: 0.6500\n",
            "Epoch 14/25\n",
            "5/5 [==============================] - ETA: 0s - loss: 0.8319 - accuracy: 0.5500\n",
            "Epoch 00014: val_accuracy did not improve from 0.65000\n",
            "5/5 [==============================] - 5s 1s/step - loss: 0.8319 - accuracy: 0.5500 - val_loss: 0.9386 - val_accuracy: 0.4750\n",
            "Epoch 15/25\n",
            "5/5 [==============================] - ETA: 0s - loss: 0.8330 - accuracy: 0.5375\n",
            "Epoch 00015: val_accuracy did not improve from 0.65000\n",
            "5/5 [==============================] - 6s 1s/step - loss: 0.8330 - accuracy: 0.5375 - val_loss: 0.9772 - val_accuracy: 0.5500\n",
            "Epoch 16/25\n",
            "5/5 [==============================] - ETA: 0s - loss: 0.7177 - accuracy: 0.7250\n",
            "Epoch 00016: val_accuracy improved from 0.65000 to 0.67500, saving model to models/model-016-0.675000.h5\n",
            "5/5 [==============================] - 7s 1s/step - loss: 0.7177 - accuracy: 0.7250 - val_loss: 0.9149 - val_accuracy: 0.6750\n",
            "Epoch 17/25\n",
            "5/5 [==============================] - ETA: 0s - loss: 0.7155 - accuracy: 0.6687\n",
            "Epoch 00017: val_accuracy did not improve from 0.67500\n",
            "5/5 [==============================] - 5s 1s/step - loss: 0.7155 - accuracy: 0.6687 - val_loss: 0.8980 - val_accuracy: 0.6250\n",
            "Epoch 18/25\n",
            "5/5 [==============================] - ETA: 0s - loss: 0.7090 - accuracy: 0.6250\n",
            "Epoch 00018: val_accuracy did not improve from 0.67500\n",
            "5/5 [==============================] - 6s 1s/step - loss: 0.7090 - accuracy: 0.6250 - val_loss: 0.8800 - val_accuracy: 0.5750\n",
            "Epoch 19/25\n",
            "5/5 [==============================] - ETA: 0s - loss: 0.7310 - accuracy: 0.6062\n",
            "Epoch 00019: val_accuracy did not improve from 0.67500\n",
            "5/5 [==============================] - 5s 1s/step - loss: 0.7310 - accuracy: 0.6062 - val_loss: 1.0258 - val_accuracy: 0.5250\n",
            "Epoch 20/25\n",
            "5/5 [==============================] - ETA: 0s - loss: 0.6379 - accuracy: 0.7063\n",
            "Epoch 00020: val_accuracy did not improve from 0.67500\n",
            "5/5 [==============================] - 5s 1s/step - loss: 0.6379 - accuracy: 0.7063 - val_loss: 0.9036 - val_accuracy: 0.6250\n",
            "Epoch 21/25\n",
            "5/5 [==============================] - ETA: 0s - loss: 0.6893 - accuracy: 0.7000\n",
            "Epoch 00021: val_accuracy did not improve from 0.67500\n",
            "5/5 [==============================] - 5s 1s/step - loss: 0.6893 - accuracy: 0.7000 - val_loss: 0.9818 - val_accuracy: 0.6500\n",
            "Epoch 22/25\n",
            "5/5 [==============================] - ETA: 0s - loss: 0.6872 - accuracy: 0.6500\n",
            "Epoch 00022: val_accuracy did not improve from 0.67500\n",
            "5/5 [==============================] - 5s 1s/step - loss: 0.6872 - accuracy: 0.6500 - val_loss: 0.9799 - val_accuracy: 0.6250\n",
            "Epoch 23/25\n",
            "5/5 [==============================] - ETA: 0s - loss: 0.6640 - accuracy: 0.6250\n",
            "Epoch 00023: val_accuracy improved from 0.67500 to 0.70000, saving model to models/model-023-0.700000.h5\n",
            "5/5 [==============================] - 7s 1s/step - loss: 0.6640 - accuracy: 0.6250 - val_loss: 0.9675 - val_accuracy: 0.7000\n",
            "Epoch 24/25\n",
            "5/5 [==============================] - ETA: 0s - loss: 0.6350 - accuracy: 0.6625\n",
            "Epoch 00024: val_accuracy improved from 0.70000 to 0.72500, saving model to models/model-024-0.725000.h5\n",
            "5/5 [==============================] - 7s 1s/step - loss: 0.6350 - accuracy: 0.6625 - val_loss: 0.9157 - val_accuracy: 0.7250\n",
            "Epoch 25/25\n",
            "5/5 [==============================] - ETA: 0s - loss: 0.6027 - accuracy: 0.7063\n",
            "Epoch 00025: val_accuracy did not improve from 0.72500\n",
            "5/5 [==============================] - 6s 1s/step - loss: 0.6027 - accuracy: 0.7063 - val_loss: 0.9590 - val_accuracy: 0.6750\n"
          ],
          "name": "stdout"
        },
        {
          "output_type": "execute_result",
          "data": {
            "text/plain": [
              "<tensorflow.python.keras.callbacks.History at 0x7fb9a3465ef0>"
            ]
          },
          "metadata": {
            "tags": []
          },
          "execution_count": 14
        }
      ]
    },
    {
      "cell_type": "code",
      "metadata": {
        "id": "BesLBKw-Ofeu"
      },
      "source": [
        ""
      ],
      "execution_count": null,
      "outputs": []
    }
  ]
}